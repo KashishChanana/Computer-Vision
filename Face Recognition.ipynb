{
 "cells": [
  {
   "cell_type": "code",
   "execution_count": null,
   "metadata": {},
   "outputs": [],
   "source": [
    "import numpy as np\n",
    "import cv2"
   ]
  },
  {
   "cell_type": "code",
   "execution_count": null,
   "metadata": {},
   "outputs": [],
   "source": [
    "face_cascade = cv2.CascadeClassifier('haarcascade_frontalface_default.xml')\n",
    "print(face_cascade)"
   ]
  },
  {
   "cell_type": "code",
   "execution_count": null,
   "metadata": {},
   "outputs": [],
   "source": [
    " def face_extract(img):\n",
    "    gray= cv2.cvtColor(img, cv2.COLOR_BGR2GRAY)\n",
    "    faces = face_cascade.detectMultiScale(img, 1.3, 5)\n",
    "    if faces is ():\n",
    "        return None\n",
    "    \n",
    "    for (x,y,w,h) in faces:\n",
    "        cropped=img[y:y+h, x:x+w]\n",
    "    \n",
    "    return cropped\n"
   ]
  },
  {
   "cell_type": "code",
   "execution_count": null,
   "metadata": {},
   "outputs": [],
   "source": [
    "cap=cv2.VideoCapture(0)\n",
    "count=0\n",
    "while(True):\n",
    "    ret, frame=cap.read()\n",
    "    if face_extract(frame) is not None:\n",
    "        count+=1\n",
    "        \n",
    "        img= cv2.resize(face_extract(frame), (200,200))\n",
    "        img= cv2.cvtColor(img,cv2.COLOR_BGR2GRAY)\n",
    "        \n",
    "        file_name_path='./Faces/Kashish/'+str(count)+'.jpg'\n",
    "        cv2.imwrite(file_name_path, img)\n",
    "        \n",
    "        cv2.putText(img, str(count), (50,50), cv2.FONT_HERSHEY_COMPLEX, 1,(0,255,0),2)\n",
    "        cv2.imshow('image',img)\n",
    "        if cv2.waitKey(13)& 0xFF == ord('q'):\n",
    "            break\n",
    "        \n",
    "    if count==105:\n",
    "        break\n",
    "        \n",
    "cap.release()\n",
    "cv2.destroyAllWindows()"
   ]
  },
  {
   "cell_type": "code",
   "execution_count": null,
   "metadata": {},
   "outputs": [],
   "source": [
    "train=[]\n",
    "label=[]\n",
    "for i in range(1,90):\n",
    "    photo=cv2.imread('./Faces/Kashish/'+ str(i)+'.jpg', 0)\n",
    "    train.append(np.asarray(photo))\n",
    "    label.append('1')"
   ]
  },
  {
   "cell_type": "code",
   "execution_count": null,
   "metadata": {},
   "outputs": [],
   "source": [
    "label=np.asarray(label, dtype=np.int32)"
   ]
  },
  {
   "cell_type": "code",
   "execution_count": null,
   "metadata": {},
   "outputs": [],
   "source": [
    "model=cv2.face.LBPHFaceRecognizer_create()"
   ]
  },
  {
   "cell_type": "code",
   "execution_count": null,
   "metadata": {},
   "outputs": [],
   "source": [
    "model.train(np.asarray(train), label)"
   ]
  },
  {
   "cell_type": "code",
   "execution_count": null,
   "metadata": {},
   "outputs": [],
   "source": [
    "img= cv2.imread('./Faces/Kashish/99.jpg',0)\n",
    "ans=model.predict(np.asarray(img,dtype='int8'))\n",
    "print(ans)"
   ]
  },
  {
   "cell_type": "code",
   "execution_count": null,
   "metadata": {},
   "outputs": [],
   "source": [
    "confidence_value = int(100* (1-(ans[1]/800)))"
   ]
  },
  {
   "cell_type": "code",
   "execution_count": null,
   "metadata": {},
   "outputs": [],
   "source": [
    "print(confidence_value)"
   ]
  },
  {
   "cell_type": "code",
   "execution_count": null,
   "metadata": {},
   "outputs": [],
   "source": [
    "def face_extract(img):\n",
    "    gray= cv2.cvtColor(img, cv2.COLOR_BGR2GRAY)\n",
    "    faces = face_cascade.detectMultiScale(img, 1.3, 5)\n",
    "    if faces is ():\n",
    "        return img, []\n",
    "    \n",
    "    for (x,y,w,h) in faces:\n",
    "        cv2.rectangle(img, (x,y), (x+w, y+h), (0,255,0),2)\n",
    "        cropped=img[y:y+h, x:x+w]\n",
    "        resized=cv2.resize(cropped, (200,200))\n",
    "    return img,resized\n",
    "    \n",
    "    \n",
    "    \n",
    "cap=cv2.VideoCapture(0)\n",
    "while(True):\n",
    "    ret, frame=cap.read()\n",
    "    \n",
    "    img,face=face_extract(frame)\n",
    "    try:\n",
    "        face=cv2.cvtColor(face, cv2.COLOR_BGR2GRAY)\n",
    "        result=model.predict(face)\n",
    "        if result[1]<500:\n",
    "            confidence_value = int(100* (1-(result[1]/300)))\n",
    "        if confidence_value>80:\n",
    "            cv2.putText(img,\"Confidence \"+str(confidence_value),(100,100), cv2.FONT_HERSHEY_COMPLEX, 1, (255,0,0),2 )\n",
    "            cv2.imshow('check', img)\n",
    "    except:\n",
    "        cv2.putText(img,\"NO FACE\", (100,100),cv2.FONT_HERSHEY_COMPLEX, 1, (255,0,0),2 )\n",
    "        cv2.imshow('check', img)\n",
    "        pass\n",
    "    if cv2.waitKey(13)& 0xFF == ord('q'):\n",
    "        break\n",
    "        \n",
    "    \n",
    "        \n",
    "cap.release()\n",
    "cv2.destroyAllWindows()"
   ]
  },
  {
   "cell_type": "code",
   "execution_count": null,
   "metadata": {},
   "outputs": [],
   "source": []
  }
 ],
 "metadata": {
  "kernelspec": {
   "display_name": "Python 3",
   "language": "python",
   "name": "python3"
  },
  "language_info": {
   "codemirror_mode": {
    "name": "ipython",
    "version": 3
   },
   "file_extension": ".py",
   "mimetype": "text/x-python",
   "name": "python",
   "nbconvert_exporter": "python",
   "pygments_lexer": "ipython3",
   "version": "3.6.8"
  }
 },
 "nbformat": 4,
 "nbformat_minor": 2
}
